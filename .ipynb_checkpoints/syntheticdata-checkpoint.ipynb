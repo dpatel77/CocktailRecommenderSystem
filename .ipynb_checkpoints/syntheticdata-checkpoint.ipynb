{
 "cells": [
  {
   "cell_type": "code",
   "execution_count": null,
   "id": "a25eae5f-4dd7-494f-9a49-6dec275605c7",
   "metadata": {},
   "outputs": [],
   "source": [
    "# 5 Best Python Synthetic Data Generators And How to Use Them When You Lack Data\n",
    "# https://towardsdatascience.com/5-best-python-synthetic-data-generators-and-how-to-use-them-when-you-lack-data-f62bcf62d43c#:~:text=Sklearn%20is%20such%20a%20vast,functions%20are%20make_classification%20and%20make_regression%20."
   ]
  },
  {
   "cell_type": "code",
   "execution_count": null,
   "id": "75be1baf-9914-4120-9c74-539e325f9098",
   "metadata": {},
   "outputs": [],
   "source": []
  },
  {
   "cell_type": "code",
   "execution_count": 11,
   "id": "c76b1aa8-4d9c-4efe-b42a-12526e40ed5f",
   "metadata": {
    "tags": []
   },
   "outputs": [
    {
     "name": "stdout",
     "output_type": "stream",
     "text": [
      "<faker.proxy.Faker object at 0x11ea33050>\n",
      "Darren Hill\n",
      "cfoster@example.net\n",
      "193 Christopher Pike\n",
      "Sandrastad, NV 50131\n",
      "https://www.bailey.com/\n"
     ]
    }
   ],
   "source": [
    "from faker import Faker\n",
    "\n",
    "fake = Faker()\n",
    "\n",
    "print(fake)\n",
    "\n",
    "print(fake.name())\n",
    "\n",
    "print(fake.email())\n",
    "\n",
    "# print(fake.cocktail())\n",
    "\n",
    "print(fake.address())\n",
    "\n",
    "print(fake.url())\n"
   ]
  },
  {
   "cell_type": "code",
   "execution_count": null,
   "id": "dbf0603a-f2f5-4e91-846b-fb12bd5926ff",
   "metadata": {},
   "outputs": [],
   "source": []
  },
  {
   "cell_type": "code",
   "execution_count": null,
   "id": "ed34c158-31d5-4c94-b310-9aef94555ff3",
   "metadata": {},
   "outputs": [],
   "source": []
  },
  {
   "cell_type": "code",
   "execution_count": null,
   "id": "4654f096-ed77-4158-9041-eba4d473b2fe",
   "metadata": {},
   "outputs": [],
   "source": []
  },
  {
   "cell_type": "code",
   "execution_count": null,
   "id": "117ffb0b-6316-4642-a6d4-486aed115970",
   "metadata": {},
   "outputs": [],
   "source": []
  },
  {
   "cell_type": "code",
   "execution_count": null,
   "id": "a6617b4c-06e5-49bc-935f-1252a1c9b0ab",
   "metadata": {},
   "outputs": [],
   "source": []
  },
  {
   "cell_type": "code",
   "execution_count": null,
   "id": "3d991308-2b35-4747-8c40-4d5a2093e11e",
   "metadata": {},
   "outputs": [],
   "source": []
  }
 ],
 "metadata": {
  "kernelspec": {
   "display_name": "Python 3 (ipykernel)",
   "language": "python",
   "name": "python3"
  },
  "language_info": {
   "codemirror_mode": {
    "name": "ipython",
    "version": 3
   },
   "file_extension": ".py",
   "mimetype": "text/x-python",
   "name": "python",
   "nbconvert_exporter": "python",
   "pygments_lexer": "ipython3",
   "version": "3.11.5"
  }
 },
 "nbformat": 4,
 "nbformat_minor": 5
}
