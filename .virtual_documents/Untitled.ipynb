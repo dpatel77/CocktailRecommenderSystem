import requests
from bs4 import BeautifulSoup

url = "https://www.allrecipes.com/recipe/some-cocktail"
response = requests.get(url)
soup = BeautifulSoup(response.content, 'html.parser')

# Extract ratings and reviews
ratings = [float(rating.get_text()) for rating in soup.find_all('span', class_='review-star-text')]
reviews = [review.get_text() for review in soup.find_all('div', class_='review-text')]


ratings


reviews



