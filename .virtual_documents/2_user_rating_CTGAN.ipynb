





# !pip install ctgan



# !pip install table_evaluator





import pandas as pd
import hashlib





# Google Intake form for the below user_ratings_form.csv: https://docs.google.com/forms/d/1ky7oeSJrYQY6xeOJbRIBb4WvZZtIx6qcmK1dO1AfXno/edit#responses 


# Load the CSV file
file_path = 'user_ratings_form.csv'
data = pd.read_csv(file_path)

data.drop(columns={'Timestamp','Your Name'}, inplace = True)
data.rename(columns={'Email':'user_id', 'Cocktail':'cocktail_name',
       'Rating (1=do not like, 5 = like very much)':'user_rating'}, inplace = True)

# Function to hash email addresses and convert to numerical value
def hash_email(email):
    hash_object = hashlib.sha256(email.encode())
    hex_dig = hash_object.hexdigest()
    return int(hex_dig, 16) % (10 ** 10)

# Apply the hashing function to the user_id column
data['user_id'] = data['user_id'].apply(hash_email)

# Display the first few rows of the data
# print(data.head())
print(data.columns)


data





categorical_features = ['user_id','cocktail_name']








from ctgan import CTGAN

ctgan = CTGAN(verbose=True)
ctgan.fit(data, categorical_features, epochs = 300)





samples = ctgan.sample(100000)

# Clamp user_ratings to the range [1, 5]
samples['user_rating'] = samples['user_rating'].clip(lower=1, upper=5)

samples.count()


samples.to_csv('user_rating_CTGAN.csv', index = False)
print(samples['user_id'].nunique())
print(samples)

# Duplicates expected with such a small real dataset





from table_evaluator import TableEvaluator

print(data.shape, samples.shape)
table_evaluator =  TableEvaluator(data, samples, cat_cols= categorical_features)

table_evaluator.visual_evaluation()



