














# import pandas as pd
# import numpy as np

# ratings_list = [i.strip().split("::") for i in open('ml-1m/ratings.dat', 'r').readlines()]
# users_list = [i.strip().split("::") for i in open('ml-1m/users.dat', 'r').readlines()]
# movies_list = [i.strip().split("::") for i in open('ml-1m/movies.dat', 'r').readlines()]


import pandas as pd
import numpy as np

# Specify the correct encoding for the files
encoding = 'ISO-8859-1'

ratings_list = [i.strip().split("::") for i in open('ml-1m/ratings.dat', 'r', encoding=encoding).readlines()]
users_list = [i.strip().split("::") for i in open('ml-1m/users.dat', 'r', encoding=encoding).readlines()]
movies_list = [i.strip().split("::") for i in open('ml-1m/movies.dat', 'r', encoding=encoding).readlines()]

# # Convert lists to DataFrames
# ratings_df = pd.DataFrame(ratings_list, columns=['UserID', 'MovieID', 'Rating', 'Timestamp'])
# users_df = pd.DataFrame(users_list, columns=['UserID', 'Gender', 'Age', 'Occupation', 'Zip-code'])
# movies_df = pd.DataFrame(movies_list, columns=['MovieID', 'Title', 'Genres'])

# # Convert appropriate columns to numeric types
# ratings_df[['UserID', 'MovieID', 'Rating', 'Timestamp']] = ratings_df[['UserID', 'MovieID', 'Rating', 'Timestamp']].apply(pd.to_numeric)
# users_df[['UserID', 'Age']] = users_df[['UserID', 'Age']].apply(pd.to_numeric)
# movies_df['MovieID'] = pd.to_numeric(movies_df['MovieID'])

# # Display the first few rows of each DataFrame
# print(ratings_df.head())
# print(users_df.head())
# print(movies_df.head())



ratings = np.array(ratings_list)
users = np.array(users_list)
movies = np.array(movies_list)


ratings_df = pd.DataFrame(ratings, columns = ['UserID', 'MovieID', 'Rating', 'Timestamp'], dtype = int)
movies_df = pd.DataFrame(movies, columns = ['MovieID', 'Title', 'Genres'])
movies_df['MovieID'] = movies_df['MovieID'].apply(pd.to_numeric)








movies_df.head()


ratings_df.head()





R_df = ratings_df.pivot(index = 'UserID', columns ='MovieID', values = 'Rating').fillna(0)
R_df.head()





# R = R_df.as_matrix()
R = R_df.values
user_ratings_mean = np.mean(R, axis = 1)
R_demeaned = R - user_ratings_mean.reshape(-1, 1)








from scipy.sparse.linalg import svds
U, sigma, Vt = svds(R_demeaned, k = 50)





sigma = np.diag(sigma)





all_user_predicted_ratings = np.dot(np.dot(U, sigma), Vt) + user_ratings_mean.reshape(-1, 1)








preds_df = pd.DataFrame(all_user_predicted_ratings, columns = R_df.columns)
preds_df.head()


def recommend_movies(predictions_df, userID, movies_df, original_ratings_df, num_recommendations=5):
    
    # Get and sort the user's predictions
    user_row_number = userID - 1 # UserID starts at 1, not 0
    sorted_user_predictions = preds_df.iloc[user_row_number].sort_values(ascending=False) # UserID starts at 1
    
    # Get the user's data and merge in the movie information.
    user_data = original_ratings_df[original_ratings_df.UserID == (userID)]
    user_full = (user_data.merge(movies_df, how = 'left', left_on = 'MovieID', right_on = 'MovieID').
                     sort_values(['Rating'], ascending=False)
                 )

    # print 'User {0} has already rated {1} movies.'.format(userID, user_full.shape[0])
    # print 'Recommending highest {0} predicted ratings movies not already rated.'.format(num_recommendations)
    
    # Recommend the highest predicted rating movies that the user hasn't seen yet.
    recommendations = (movies_df[~movies_df['MovieID'].isin(user_full['MovieID'])].
         merge(pd.DataFrame(sorted_user_predictions).reset_index(), how = 'left',
               left_on = 'MovieID',
               right_on = 'MovieID').
         rename(columns = {user_row_number: 'Predictions'}).
         sort_values('Predictions', ascending = False).
                       iloc[:num_recommendations, :-1]
                      )

    return user_full, recommendations


already_rated, predictions = recommend_movies(preds_df, 837, movies_df, ratings_df, 10)





already_rated.head(10)


predictions












